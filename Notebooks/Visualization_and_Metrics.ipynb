{
 "cells": [
  {
   "cell_type": "markdown",
   "id": "be662446",
   "metadata": {},
   "source": [
    "# Data Visulization and Metrics"
   ]
  },
  {
   "cell_type": "code",
   "execution_count": null,
   "id": "7995a019",
   "metadata": {},
   "outputs": [],
   "source": [
    "import matplotlib.pyplot as plt\n",
    "import polars as pl \n",
    "import seaborn as sns "
   ]
  },
  {
   "cell_type": "markdown",
   "id": "398b393d",
   "metadata": {},
   "source": [
    "## Ratings \n",
    "This section aims to explore the Average Ratings variable through plots and statistic metrics "
   ]
  },
  {
   "cell_type": "code",
   "execution_count": null,
   "id": "467b275d",
   "metadata": {},
   "outputs": [],
   "source": []
  },
  {
   "cell_type": "code",
   "execution_count": null,
   "id": "08497b23",
   "metadata": {},
   "outputs": [],
   "source": [
    "msg = \"New Jupyter Notebook\"\n",
    "print(msg)"
   ]
  },
  {
   "cell_type": "markdown",
   "id": "0b9f005c",
   "metadata": {},
   "source": []
  }
 ],
 "metadata": {
  "kernelspec": {
   "display_name": "Python 3",
   "language": "python",
   "name": "python3"
  },
  "language_info": {
   "codemirror_mode": {
    "name": "ipython",
    "version": 3
   },
   "file_extension": ".py",
   "mimetype": "text/x-python",
   "name": "python",
   "nbconvert_exporter": "python",
   "pygments_lexer": "ipython3",
   "version": "3.9.6"
  }
 },
 "nbformat": 4,
 "nbformat_minor": 5
}
